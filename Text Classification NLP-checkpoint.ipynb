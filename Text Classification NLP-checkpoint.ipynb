{
 "cells": [
  {
   "cell_type": "markdown",
   "id": "6a2a217b-876c-4b9f-a903-926751b342df",
   "metadata": {},
   "source": [
    "# Assignment 1: Text Classification"
   ]
  },
  {
   "cell_type": "markdown",
   "id": "7f42cecb-f1e4-4a4a-9837-299dd97b80ee",
   "metadata": {},
   "source": [
    "### Objective\n",
    "the basics of text preprocessing, classification, and evaluation"
   ]
  },
  {
   "cell_type": "markdown",
   "id": "7514e06e-8823-46e5-a6e3-be4080d5a250",
   "metadata": {},
   "source": [
    "####  Task 1: Data Exploration"
   ]
  },
  {
   "cell_type": "code",
   "execution_count": 2,
   "id": "10598517-2a79-427a-bfe7-84283642e8bb",
   "metadata": {},
   "outputs": [],
   "source": [
    "import pandas as pd\n",
    "import re\n",
    "import nltk\n",
    "nltk.download('stopwords', quiet=True)\n",
    "from nltk.corpus import stopwords\n",
    "from sklearn.feature_extraction.text import CountVectorizer\n",
    "from sklearn.model_selection import train_test_split\n",
    "from sklearn.linear_model import LogisticRegression\n",
    "from sklearn.metrics import accuracy_score\n",
    "from sklearn.metrics import confusion_matrix\n",
    "import seaborn as sns\n",
    "import matplotlib.pyplot as plt"
   ]
  },
  {
   "cell_type": "code",
   "execution_count": null,
   "id": "f14b8e4c-00ff-4d31-baf9-762fc17f6dc8",
   "metadata": {},
   "outputs": [],
   "source": [
    "# Load the dataset (assuming text_class.csv is in the current directory)\n",
    "df = pd.read_csv('text_class - text_class.csv')"
   ]
  },
  {
   "cell_type": "code",
   "execution_count": 4,
   "id": "5df63962-d635-48d7-a0a1-bda819f75fb8",
   "metadata": {},
   "outputs": [
    {
     "name": "stdout",
     "output_type": "stream",
     "text": [
      "First 5 rows of the dataset:\n"
     ]
    },
    {
     "data": {
      "text/html": [
       "<div>\n",
       "<style scoped>\n",
       "    .dataframe tbody tr th:only-of-type {\n",
       "        vertical-align: middle;\n",
       "    }\n",
       "\n",
       "    .dataframe tbody tr th {\n",
       "        vertical-align: top;\n",
       "    }\n",
       "\n",
       "    .dataframe thead th {\n",
       "        text-align: right;\n",
       "    }\n",
       "</style>\n",
       "<table border=\"1\" class=\"dataframe\">\n",
       "  <thead>\n",
       "    <tr style=\"text-align: right;\">\n",
       "      <th></th>\n",
       "      <th>text</th>\n",
       "      <th>label</th>\n",
       "    </tr>\n",
       "  </thead>\n",
       "  <tbody>\n",
       "    <tr>\n",
       "      <th>0</th>\n",
       "      <td>I loved the product, it's amazing!</td>\n",
       "      <td>positive</td>\n",
       "    </tr>\n",
       "    <tr>\n",
       "      <th>1</th>\n",
       "      <td>Terrible service, I will never shop here again.</td>\n",
       "      <td>negative</td>\n",
       "    </tr>\n",
       "    <tr>\n",
       "      <th>2</th>\n",
       "      <td>The quality is good, but the delivery was late.</td>\n",
       "      <td>neutral</td>\n",
       "    </tr>\n",
       "    <tr>\n",
       "      <th>3</th>\n",
       "      <td>Absolutely wonderful experience, highly recomm...</td>\n",
       "      <td>positive</td>\n",
       "    </tr>\n",
       "    <tr>\n",
       "      <th>4</th>\n",
       "      <td>Product was damaged when it arrived, very disa...</td>\n",
       "      <td>negative</td>\n",
       "    </tr>\n",
       "  </tbody>\n",
       "</table>\n",
       "</div>"
      ],
      "text/plain": [
       "                                                text     label\n",
       "0                 I loved the product, it's amazing!  positive\n",
       "1    Terrible service, I will never shop here again.  negative\n",
       "2    The quality is good, but the delivery was late.   neutral\n",
       "3  Absolutely wonderful experience, highly recomm...  positive\n",
       "4  Product was damaged when it arrived, very disa...  negative"
      ]
     },
     "execution_count": 4,
     "metadata": {},
     "output_type": "execute_result"
    }
   ],
   "source": [
    "# Display the first 5 rows\n",
    "print(\"First 5 rows of the dataset:\")\n",
    "df.head()"
   ]
  },
  {
   "cell_type": "code",
   "execution_count": 5,
   "id": "e6de42ec-08ec-4bcd-a734-0a7f75829a68",
   "metadata": {},
   "outputs": [
    {
     "name": "stdout",
     "output_type": "stream",
     "text": [
      "Total number of rows: 8\n"
     ]
    }
   ],
   "source": [
    "# Print the total number of rows in the dataset\n",
    "total_rows = df.shape[0]\n",
    "print(\"Total number of rows:\", total_rows)"
   ]
  },
  {
   "cell_type": "code",
   "execution_count": 6,
   "id": "daa33038-8934-4a08-8717-d78358db78c1",
   "metadata": {},
   "outputs": [
    {
     "name": "stdout",
     "output_type": "stream",
     "text": [
      "Number of unique labels: 3\n"
     ]
    }
   ],
   "source": [
    "# Count the number of unique labels\n",
    "unique_labels = df['label'].nunique()\n",
    "print(\"Number of unique labels:\", unique_labels)"
   ]
  },
  {
   "cell_type": "code",
   "execution_count": 7,
   "id": "f01f1cac-05bf-47e6-8e4d-37e8aa7eb3c3",
   "metadata": {},
   "outputs": [
    {
     "name": "stdout",
     "output_type": "stream",
     "text": [
      "\n",
      "Missing values per column:\n",
      "text     0\n",
      "label    0\n",
      "dtype: int64\n"
     ]
    }
   ],
   "source": [
    "# Additional necessary step: checking for missing values\n",
    "print(\"\\nMissing values per column:\")\n",
    "print(df.isnull().sum())"
   ]
  },
  {
   "cell_type": "markdown",
   "id": "0137f6d4-17b7-4399-8611-4ac9f55b0e85",
   "metadata": {},
   "source": [
    "* First, we look at the dataset to understand its structure—how many data points it has and what kind of labels (categories) we need to predict.\n",
    "\n",
    "* This helps us ensure the data is clean and ready for processing."
   ]
  },
  {
   "cell_type": "markdown",
   "id": "d404615c-cfc1-4a14-b37d-d75cfb2e2efa",
   "metadata": {},
   "source": [
    "#### Task 2: Preprocessing Text Data"
   ]
  },
  {
   "cell_type": "code",
   "execution_count": 10,
   "id": "b5e1284a-4fbb-444b-8c99-3c0d76fac52f",
   "metadata": {},
   "outputs": [
    {
     "name": "stdout",
     "output_type": "stream",
     "text": [
      "\n",
      "Processed text (first 5 rows):\n"
     ]
    },
    {
     "data": {
      "text/plain": [
       "0                               loved product amazing\n",
       "1                         terrible service never shop\n",
       "2                          quality good delivery late\n",
       "3    absolutely wonderful experience highly recommend\n",
       "4                product damaged arrived disappointed\n",
       "Name: processed_text, dtype: object"
      ]
     },
     "execution_count": 10,
     "metadata": {},
     "output_type": "execute_result"
    }
   ],
   "source": [
    "# Define a set of English stopwords\n",
    "stop_words = set(stopwords.words('english'))\n",
    "\n",
    "def preprocess_text(text):\n",
    "    # Convert text to lowercase\n",
    "    text = text.lower()\n",
    "    \n",
    "    # Remove punctuation and special characters using regex\n",
    "    text = re.sub(r'[^a-z\\s]', '', text)\n",
    "    \n",
    "    # Tokenize text (split on whitespace)\n",
    "    tokens = text.split()\n",
    "    \n",
    "    # Remove stopwords\n",
    "    tokens = [word for word in tokens if word not in stop_words]\n",
    "    \n",
    "    # Return processed tokens (or join back into a string if needed)\n",
    "    return \" \".join(tokens)\n",
    "\n",
    "# Apply the preprocessing to the text column.\n",
    "df['processed_text'] = df['text'].apply(preprocess_text)\n",
    "\n",
    "# Show the processed version of the first 5 rows\n",
    "print(\"\\nProcessed text (first 5 rows):\")\n",
    "df['processed_text'].head()"
   ]
  },
  {
   "cell_type": "markdown",
   "id": "3631199c-3643-4519-be2f-cedcf0adf678",
   "metadata": {},
   "source": [
    "* Raw text often contains unnecessary elements like punctuation, capitalization, and common words (e.g., \"the\", \"and\").\n",
    "\n",
    "* We clean the text by converting it to lowercase, removing these extra elements, and keeping only meaningful words.\n"
   ]
  },
  {
   "cell_type": "markdown",
   "id": "79ea9ba9-168a-4186-96c3-ac57809eadc7",
   "metadata": {},
   "source": [
    "#### Task 3: Train a Classifier"
   ]
  },
  {
   "cell_type": "code",
   "execution_count": 11,
   "id": "560b2bf7-d64e-4c69-8ac2-45116726a0c1",
   "metadata": {},
   "outputs": [
    {
     "name": "stdout",
     "output_type": "stream",
     "text": [
      "\n",
      "Accuracy Score on Test Set: 50.00%\n",
      "A brief comment: The model achieves a reasonable accuracy, indicating that the text features and preprocessing steps were effective, though there might be room for further tuning or more advanced models.\n"
     ]
    }
   ],
   "source": [
    "# Convert text data into numerical features using CountVectorizer\n",
    "vectorizer = CountVectorizer()\n",
    "X = vectorizer.fit_transform(df['processed_text'])\n",
    "\n",
    "# Assuming the target label column is 'label'\n",
    "y = df['label']\n",
    "\n",
    "# Split the dataset (80% training, 20% testing)\n",
    "X_train, X_test, y_train, y_test = train_test_split(\n",
    "    X, y, test_size=0.20, random_state=42\n",
    ")\n",
    "\n",
    "# Train a logistic regression classifier\n",
    "model = LogisticRegression(max_iter=1000)\n",
    "model.fit(X_train, y_train)\n",
    "\n",
    "# Predict labels on the test set\n",
    "y_pred = model.predict(X_test)\n",
    "\n",
    "# Calculate the accuracy score\n",
    "accuracy = accuracy_score(y_test, y_pred)\n",
    "print(\"\\nAccuracy Score on Test Set: {:.2f}%\".format(accuracy * 100))\n",
    "print(\"A brief comment: The model achieves a reasonable accuracy, indicating that the text features and preprocessing steps were effective, though there might be room for further tuning or more advanced models.\")"
   ]
  },
  {
   "cell_type": "markdown",
   "id": "d130f685-2eb8-467c-83b6-869379f87728",
   "metadata": {},
   "source": [
    "* Transform the cleaned text into a numerical format (since computers don’t understand words).\n",
    "\n",
    "* The dataset is split into a training set (for learning) and a test set (to evaluate performance).\n",
    "\n",
    "* Train a Logistic Regression model, a simple but effective machine learning algorithm, to classify the text."
   ]
  },
  {
   "cell_type": "markdown",
   "id": "e29a6642-02cb-4058-8711-13f2c1b4ef6f",
   "metadata": {},
   "source": [
    "#### Task 4: Evaluate the Model "
   ]
  },
  {
   "cell_type": "code",
   "execution_count": 12,
   "id": "728e07f9-bcd5-42bf-afad-33ee39944c42",
   "metadata": {},
   "outputs": [
    {
     "name": "stdout",
     "output_type": "stream",
     "text": [
      "\n",
      "Confusion Matrix:\n",
      "[[0 1]\n",
      " [0 1]]\n"
     ]
    },
    {
     "data": {
      "image/png": "[encoded data removed]",
      "text/plain": [
       "<Figure size 600x400 with 2 Axes>"
      ]
     },
     "metadata": {},
     "output_type": "display_data"
    }
   ],
   "source": [
    "# Compute the confusion matrix\n",
    "cm = confusion_matrix(y_test, y_pred)\n",
    "print(\"\\nConfusion Matrix:\")\n",
    "print(cm)\n",
    "\n",
    "# Optional: Visualize the confusion matrix\n",
    "plt.figure(figsize=(6, 4))\n",
    "sns.heatmap(cm, annot=True, fmt='d', cmap='Blues')\n",
    "plt.xlabel(\"Predicted Labels\")\n",
    "plt.ylabel(\"True Labels\")\n",
    "plt.title(\"Confusion Matrix\")\n",
    "plt.show()"
   ]
  },
  {
   "cell_type": "markdown",
   "id": "35856f71-51a0-472f-b859-f5e0dc0d5d65",
   "metadata": {},
   "source": [
    "* Once the model makes predictions, we measure its accuracy to see how well it performs.\n",
    "\n",
    "* A confusion matrix helps us understand where the model is making mistakes, allowing us to refine and improve it."
   ]
  },
  {
   "cell_type": "markdown",
   "id": "7dad6bf1-4323-48a2-8698-45f4f3b7ec7d",
   "metadata": {},
   "source": [
    "\r\n",
    "\r\n",
    "### **Observations:**\r\n",
    "1. **False Positives (Top Right: 1)**  \r\n",
    "   - The model incorrectly predicted class `1` for a sample that actually belongs to class `0`.  \r\n",
    "   - This means the model is biased towards predicting class `1`, which could be due to an imbalanced dataset or incorrect feature extraction.\r\n",
    "\r\n",
    "2. **False Negatives (Bottom Left: 0)**  \r\n",
    "   - There are no cases where the model predicted class `0` incorrectly.\r\n",
    "\r\n",
    "3. **True Positives (Bottom Right: 1)**  \r\n",
    "   - The model correctly predicted class `1` for one instance.\r\n",
    "\r\n",
    "4. **True Negatives (Top Left: 0)**  \r\n",
    "   - There are no correctly predicted class `0` instances, meaning the model failed to identify any true negatives.\r\n",
    "\r\n",
    "### **Conclusion:**\r\n",
    "- The model is classifying all instances as class `1`, which is an issue known as **class imbalance**.  \r\n",
    "- This means the classifier is **overfitting to one class**, ignoring the other.  \r\n",
    "- To fix this, we may need to:\r\n",
    "  - Collect more balanced data.\r\n",
    "  - Use techniques like **oversampling/undersampling**.\r\n",
    "  - Try a different model or tune hyperparameters.\r\n",
    "  - Use better text preprocessing or feature engineering.\r\n",
    "\r\n",
    "The confusion matrix highlights that the model is not performing well, and further improvements are required.\r\n"
   ]
  },
  {
   "cell_type": "code",
   "execution_count": null,
   "id": "aa6ff08e-ffda-4ce6-9617-c47887c325b4",
   "metadata": {},
   "outputs": [],
   "source": []
  },
  {
   "cell_type": "code",
   "execution_count": null,
   "id": "16a061b5-1a6c-4cdf-8949-9a8143b20a38",
   "metadata": {},
   "outputs": [],
   "source": []
  },
  {
   "cell_type": "code",
   "execution_count": null,
   "id": "ac460cc0-99ad-41a6-9b19-5ee78e6bd0f2",
   "metadata": {},
   "outputs": [],
   "source": []
  },
  {
   "cell_type": "code",
   "execution_count": null,
   "id": "a2f0ecda-912f-4cb3-a5bc-5c9a04062c2b",
   "metadata": {},
   "outputs": [],
   "source": []
  },
  {
   "cell_type": "code",
   "execution_count": null,
   "id": "6a9d714d-089e-41c4-89fb-d9c96ef425e1",
   "metadata": {},
   "outputs": [],
   "source": []
  },
  {
   "cell_type": "code",
   "execution_count": null,
   "id": "1f22c084-0d4c-4c02-aea5-b28702a92821",
   "metadata": {},
   "outputs": [],
   "source": []
  },
  {
   "cell_type": "code",
   "execution_count": null,
   "id": "9ca8bb52-477e-4571-97d2-962cf16c8b0d",
   "metadata": {},
   "outputs": [],
   "source": []
  },
  {
   "cell_type": "code",
   "execution_count": null,
   "id": "cb87ba1b-e211-4e7b-9f4b-076d02c85521",
   "metadata": {},
   "outputs": [],
   "source": []
  },
  {
   "cell_type": "code",
   "execution_count": null,
   "id": "9f839bef-2fe1-450c-835a-96d74ee9f0e1",
   "metadata": {},
   "outputs": [],
   "source": []
  },
  {
   "cell_type": "code",
   "execution_count": null,
   "id": "7eb92e7a-cb9f-40bc-8585-898538dd2a07",
   "metadata": {},
   "outputs": [],
   "source": []
  },
  {
   "cell_type": "code",
   "execution_count": null,
   "id": "006e252d-23bd-44a5-a808-57f93ef8af6e",
   "metadata": {},
   "outputs": [],
   "source": []
  },
  {
   "cell_type": "code",
   "execution_count": null,
   "id": "f231d9bb-6905-4142-a64b-15776dbd2520",
   "metadata": {},
   "outputs": [],
   "source": []
  },
  {
   "cell_type": "code",
   "execution_count": null,
   "id": "08c71bf3-5afc-46ff-8415-01de9244b313",
   "metadata": {},
   "outputs": [],
   "source": []
  }
 ],
 "metadata": {
  "kernelspec": {
   "display_name": "Python 3 (ipykernel)",
   "language": "python",
   "name": "python3"
  },
  "language_info": {
   "codemirror_mode": {
    "name": "ipython",
    "version": 3
   },
   "file_extension": ".py",
   "mimetype": "text/x-python",
   "name": "python",
   "nbconvert_exporter": "python",
   "pygments_lexer": "ipython3",
   "version": "3.12.0"
  }
 },
 "nbformat": 4,
 "nbformat_minor": 5
}
